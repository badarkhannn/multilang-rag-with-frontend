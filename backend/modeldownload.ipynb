{
 "cells": [
  {
   "cell_type": "markdown",
   "id": "dd4ca785",
   "metadata": {},
   "source": [
    "### multilang-e45"
   ]
  },
  {
   "cell_type": "code",
   "execution_count": 2,
   "id": "11851161",
   "metadata": {},
   "outputs": [
    {
     "name": "stdout",
     "output_type": "stream",
     "text": [
      "(1024,)\n",
      "[-0.03357729  0.03777216 -0.03779739 ... -0.02056845  0.00147756\n",
      "  0.01999139]\n"
     ]
    }
   ],
   "source": [
    "from sentence_transformers import SentenceTransformer\n",
    "\n",
    "model = SentenceTransformer(\"BAAI/bge-m3\")\n",
    "embedding = model.encode(\"This is a test sentence\", normalize_embeddings=True)\n",
    "print(embedding.shape)\n",
    "print(embedding)\n"
   ]
  }
 ],
 "metadata": {
  "kernelspec": {
   "display_name": ".venv",
   "language": "python",
   "name": "python3"
  },
  "language_info": {
   "codemirror_mode": {
    "name": "ipython",
    "version": 3
   },
   "file_extension": ".py",
   "mimetype": "text/x-python",
   "name": "python",
   "nbconvert_exporter": "python",
   "pygments_lexer": "ipython3",
   "version": "3.11.12"
  }
 },
 "nbformat": 4,
 "nbformat_minor": 5
}
